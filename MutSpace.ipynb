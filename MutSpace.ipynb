{
  "nbformat": 4,
  "nbformat_minor": 0,
  "metadata": {
    "colab": {
      "name": "MutSpace.ipynb",
      "provenance": [],
      "collapsed_sections": [],
      "authorship_tag": "ABX9TyOyidhnI/RD3mgQU6T+fzLH",
      "include_colab_link": true
    },
    "kernelspec": {
      "name": "python3",
      "display_name": "Python 3"
    },
    "language_info": {
      "name": "python"
    },
    "accelerator": "GPU"
  },
  "cells": [
    {
      "cell_type": "markdown",
      "metadata": {
        "id": "view-in-github",
        "colab_type": "text"
      },
      "source": [
        "<a href=\"https://colab.research.google.com/github/musophobia/KrittimBuddhi/blob/master/MutSpace.ipynb\" target=\"_parent\"><img src=\"https://colab.research.google.com/assets/colab-badge.svg\" alt=\"Open In Colab\"/></a>"
      ]
    },
    {
      "cell_type": "code",
      "metadata": {
        "id": "dyIXs-CsznRn"
      },
      "source": [
        "#utils.py\n",
        "import json\n",
        "from os.path import join\n",
        "import os\n",
        "from random import sample\n",
        "import torch\n",
        "import h5py\n",
        "from tqdm import tqdm\n",
        "import numpy as np\n",
        "#model.py\n",
        "import torch\n",
        "from torch import nn\n",
        "from torch.optim import Adam\n",
        "#train.py\n",
        "import sys\n",
        "import torch\n",
        "import argparse\n",
        "# from utils import *\n",
        "#from model import MutSpace\n",
        "from torch.utils.data import DataLoader\n",
        "from tqdm import tqdm\n",
        "import json\n",
        "import numpy as np"
      ],
      "execution_count": null,
      "outputs": []
    },
    {
      "cell_type": "code",
      "metadata": {
        "colab": {
          "base_uri": "https://localhost:8080/"
        },
        "id": "RWSJpsyKqHjH",
        "outputId": "c451383a-8e1b-41dd-bc4a-2abce79f9eca"
      },
      "source": [
        "from google.colab import drive\n",
        "drive.mount('/content/drive')"
      ],
      "execution_count": null,
      "outputs": [
        {
          "output_type": "stream",
          "text": [
            "Mounted at /content/drive\n"
          ],
          "name": "stdout"
        }
      ]
    },
    {
      "cell_type": "code",
      "metadata": {
        "id": "_RDMTfP70eCQ"
      },
      "source": [
        "# utils.py\n",
        "def get_seq_mapping():\n",
        "    \"\"\"convert mutation type to integer (index)\"\"\"\n",
        "    #TODO add support for indel and make it more convenient to modify this function\n",
        "    mut_mapping = {'C->A': 0, 'C->G': 1, 'C->T': 2, 'T->A': 3, 'T->C': 4, 'T->G': 5}\n",
        "    nuk_mapping = {'A': 0, 'C': 1, 'G': 2, 'T': 3}\n",
        "    return mut_mapping, nuk_mapping\n",
        "\n",
        "\n",
        "def get_rev_seq_mapping():\n",
        "    \"\"\"reverse operation for ger_seq_mapping\"\"\"\n",
        "    mut_mapping = {0: 'C->A', 1: 'C->G', 2: 'C->T', 3: 'T->A', 4: 'T->C', 5: 'T->G'}\n",
        "    nuk_mapping = {0: 'A', 1: 'C', 2: 'G', 3: 'T'}\n",
        "    return mut_mapping, nuk_mapping\n",
        "\n",
        "\n",
        "def index(seq):\n",
        "    \"\"\"convert an arbitary mutation pattern, ie the up- and downstream of mutation into an index\n",
        "    # [up, down, mut]\n",
        "    # [3, 1, 0, 2, 4] -> 1159\n",
        "    the last element indicates the nucleotide mapping for the reference base\n",
        "    the first half (except the last one) is the nucleotides mapping for the upstream bases\n",
        "    the second half (except the last one) is the nucleotides mapping for the downstream bases\n",
        "    \"\"\"\n",
        "    idx = 0\n",
        "    for i, s in enumerate(seq):\n",
        "        idx += (4 ** i) * s\n",
        "    return idx\n",
        "\n",
        "\n",
        "def rev_index(num, n_bits):\n",
        "    # 1159 -> [3, 1, 0, 2, 4]\n",
        "    # here n_bits = 5\n",
        "    seq = []\n",
        "    for i in range(n_bits):\n",
        "        base = 4 ** (n_bits - i - 1)\n",
        "        idx = num // base\n",
        "        num = num - idx * base\n",
        "        seq.insert(0, idx)\n",
        "    return seq\n",
        "\n",
        "\n",
        "class Dataset:\n",
        "    def __init__(self, config, data_path):\n",
        "        self.config = config\n",
        "        self.data_path = data_path\n",
        "        self.data = []\n",
        "\n",
        "    def process(self):\n",
        "        \"\"\"\n",
        "        This function should process the raw input into a format of\n",
        "        [[id, a_features, b_featuers]]\n",
        "        :return:\n",
        "        \"\"\"\n",
        "        return None\n",
        "\n",
        "    def sample(self, n_items, drop_id=None):\n",
        "        if drop_id is not None:\n",
        "            samples = [case for case in sample(self.data, n_items) if case[0] != drop_id]\n",
        "        else:\n",
        "            samples = sample(self.data, n_items)\n",
        "        return samples\n",
        "\n",
        "    def __len__(self):\n",
        "        return len(self.data)\n",
        "\n",
        "    def __getitem__(self, item):\n",
        "        return self.data[item]\n",
        "\n",
        "\n",
        "class MutationDatasetClassic: \n",
        "    def __init__(self, data_path, context_width):\n",
        "        self.data_path = data_path\n",
        "        self.mut_mapping, self.nuk_mapping = get_seq_mapping()\n",
        "        self.context_width = context_width\n",
        "        self.feature_dict = dict()\n",
        "        self.feature_num = (6 * 4 ** (2 * self.context_width))\n",
        "        self.data = self.process()\n",
        "\n",
        "    def process(self):\n",
        "        \"\"\"\n",
        "        This function process the raw input and convert the mutation into a patient to mutation pattern matrix () and a patient id to row of matrix, and a mutation pattern to column of matrix json\n",
        "        \"\"\"\n",
        "        #\n",
        "        data = []\n",
        "        patient2row = dict()\n",
        "        pattern2col = dict()\n",
        "        #\n",
        "        datalist = os.listdir(self.data_path)\n",
        "        datalist = [\".\".join(name.split('.')[:-1]) for name in datalist if name.endswith('tsv')]\n",
        "        header = json.load(open(join(self.data_path, 'meta.json')))\n",
        "        print(datalist)\n",
        "        # \n",
        "        matrix_list = []\n",
        "        for cname in datalist:\n",
        "            print(f'Loading {cname}...')\n",
        "            with open(os.path.join(self.data_path, f'{cname}.tsv'), 'r') as fin:\n",
        "                for i, line in enumerate(fin.readlines()):\n",
        "                    line = line.strip().split('\\t')\n",
        "                    if i == 0: # skip header\n",
        "                        continue\n",
        "                    # uid is patient id or sample id\n",
        "                    uname = line[header['uid']]\n",
        "                    if patient2row.get(uname, None) is None:\n",
        "                        patient2row[uname] = len(patient2row)\n",
        "                        matrix_list.append(np.zeros(self.feature_num))\n",
        "                    uid = patient2row[uname]\n",
        "                    # get pattern\n",
        "                    up = line[header['upstream']]\n",
        "                    down = line[header['downstream']]\n",
        "                    up = up[-self.context_width:]\n",
        "                    down = down[:self.context_width]\n",
        "                    var_type = line[header['var_type']]\n",
        "                    pattern = up + '(' + var_type + ')' + down\n",
        "                    idx = self.decompose(up, down, var_type)\n",
        "                    if pattern2col.get(pattern, None) is None:\n",
        "                        pattern2col[pattern] = idx\n",
        "                    # update count\n",
        "                    matrix_list[uid][idx] += 1\n",
        "        # \n",
        "        matrix = np.stack(matrix_list)\n",
        "        json.dump(patient2row, open(join(self.data_path, 'patient2row.json'), 'w'))\n",
        "        json.dump(pattern2col, open(join(self.data_path, 'pattern2col.json'), 'w'))\n",
        "        return matrix\n",
        "\n",
        "    def decompose(self, upstream, downstream, mutation):\n",
        "        mutation = [self.mut_mapping[mutation]]\n",
        "        up = [self.nuk_mapping[s] for s in upstream]\n",
        "        down = [self.nuk_mapping[s] for s in downstream]\n",
        "        return index(up + down + mutation) \n",
        "\n",
        "    def __len__(self):\n",
        "        return len(matrix) \n",
        "\n",
        "    def __getitem__(self, item):\n",
        "        return self.data[item]\n",
        "\n",
        "\n",
        "class MutationDataset:\n",
        "    def __init__(self, config, data_path):\n",
        "        self.config = config\n",
        "        self.data_path = data_path\n",
        "        self.mut_mapping, self.nuk_mapping = get_seq_mapping()\n",
        "        self.ring_width = self.config.ring_width\n",
        "        self.ring_num = self.config.ring_num\n",
        "        self.feature_dict = dict()\n",
        "        self.feature_num = (6 * 4 ** (2 * self.config.ring_width)) * self.config.ring_num\n",
        "        self.data = self.process()\n",
        "        self.num_fa = len(self.data[-1][1])\n",
        "        self.num_fb = len(self.data[-1][2])\n",
        "\n",
        "    def get_feature_id(self, f):\n",
        "        \"\"\"\n",
        "        assign feature index to a new feature\n",
        "        by default self.feature_num is the number of rings\n",
        "        note f is a string so that only categorical features are supported\n",
        "        \"\"\"\n",
        "        if f not in self.feature_dict:\n",
        "            self.feature_dict[f] = self.feature_num\n",
        "            self.feature_num += 1\n",
        "        return self.feature_dict[f]\n",
        "\n",
        "    def process(self, fresh = True):\n",
        "        data = []\n",
        "        patient_mapping = dict()\n",
        "        print(open(join(self.data_path, 'meta.json')))\n",
        "        header = json.load(open(join(self.data_path, 'meta.json')))\n",
        "        datalist = os.listdir(self.config.data_path)\n",
        "        datalist = [\".\".join(name.split('.')[:-1]) for name in datalist if name.endswith('tsv')]\n",
        "        print(datalist)\n",
        "        for cname in datalist:\n",
        "            print(f'Loading {cname}...')\n",
        "            fin = open(os.path.join(self.data_path, f'{cname}.tsv'), 'r')\n",
        "            for i, line in enumerate(fin.readlines()):\n",
        "                line = line.strip().split('\\t')\n",
        "                line.append(cname)\n",
        "                if i == 0:\n",
        "                    continue\n",
        "\n",
        "                # uid is patient id or sample id\n",
        "                uid = self.get_feature_id(line[header['uid']])\n",
        "                # a_features: categorical feature for each patient/sample\n",
        "                # b_features: cetegorical feature for each project/data\n",
        "                a_features, b_features = [], []\n",
        "\n",
        "                # convert mutation and its context into index\n",
        "                rings = self.decompose(line[header['upstream']], line[header['downstream']], line[header['var_type']])\n",
        "                a_features.extend(rings)\n",
        "\n",
        "                for col in header['a']:\n",
        "                    a_features.append(self.get_feature_id(line[col]))\n",
        "\n",
        "                for col in header['b']:\n",
        "                    b_features.append(self.get_feature_id(line[col]))\n",
        "\n",
        "                case = [uid, a_features, b_features]\n",
        "                data.append(case)\n",
        "\n",
        "                pname = line[header['uid']]\n",
        "                if pname not in patient_mapping:\n",
        "                    patient_mapping[pname] = case\n",
        "\n",
        "            if self.config.debug:\n",
        "                break\n",
        "        if fresh:\n",
        "            json.dump(self.feature_dict, open(join(self.config.ckpt_path, 'feature_dict.json'), 'w'))\n",
        "            json.dump(patient_mapping, open(join(self.config.ckpt_path, 'patient_mapping.json'), 'w'))\n",
        "        return data\n",
        "\n",
        "    def decompose(self, upstream, downstream, mutation):\n",
        "        rings = []\n",
        "        w = self.ring_width\n",
        "        mutation = [self.mut_mapping[mutation]]\n",
        "        base = 6 * 4 ** (2 * self.ring_width)\n",
        "        for i in range(self.ring_num):\n",
        "            if i == 0:\n",
        "                up = upstream[-w:]\n",
        "            else:\n",
        "                up = upstream[-(i + 1) * w:-i * w]\n",
        "            down = downstream[i * w:(i + 1) * w]\n",
        "            up = [self.nuk_mapping[s] for s in up]\n",
        "            down = [self.nuk_mapping[s] for s in down]\n",
        "            rings.append(index(up + down + mutation) + i * base)\n",
        "        return rings\n",
        "\n",
        "    def sample(self, n_items, drop_id=None):\n",
        "        if drop_id is not None:\n",
        "            samples = [case for case in sample(self.data, n_items) if case[0] != drop_id]\n",
        "        else:\n",
        "            samples = sample(self.data, n_items)\n",
        "        return samples\n",
        "\n",
        "    def __len__(self):\n",
        "        return len(self.data)\n",
        "\n",
        "    def __getitem__(self, item):\n",
        "        return self.data[item]\n",
        "\n",
        "    def save_hdf5(self, path):\n",
        "        f = h5py.File(path, 'w')\n",
        "        f['feature_num'] = self.feature_num\n",
        "        f['num_fa'] = self.num_fa\n",
        "        f['num_fb'] = self.num_fb\n",
        "        f['total'] = len(self.data)\n",
        "        for i, item in enumerate(tqdm(self.data)):\n",
        "            f.create_group(str(i))\n",
        "            f[str(i)]['uid'] = item[0]\n",
        "            f[str(i)]['a_features'] = item[1]\n",
        "            f[str(i)]['b_features'] = item[2]\n",
        "        f.close()\n",
        "\n",
        "\n",
        "class MutationDatasetH5PY:\n",
        "    def __init__(self, config, data_path, patient_mapping_path):\n",
        "        self.data = h5py.File(data_path, 'r')\n",
        "        self.config = config\n",
        "        self.feature_num = self.data['feature_num'][()]\n",
        "        self.num_fa = self.data['num_fa'][()]\n",
        "        self.num_fb = self.data['num_fb'][()]\n",
        "        self.total = self.data['total'][()]\n",
        "        self.patient_mapping = json.load(open(patient_mapping_path))\n",
        "\n",
        "    def __getitem__(self, item):\n",
        "        uid = self.data[str(item)]['uid'][()]\n",
        "        fa = list(self.data[str(item)]['a_features'])\n",
        "        fb = list(self.data[str(item)]['b_features'])\n",
        "        return [uid, fa, fb]\n",
        "\n",
        "    def __len__(self):\n",
        "        return self.total\n",
        "\n",
        "    def sample(self, n_negative, drop_id):\n",
        "        keys = sample(self.patient_mapping.keys(), n_negative)\n",
        "        samples = [self.patient_mapping[k] for k in keys if self.patient_mapping[k][0] != drop_id]\n",
        "        return samples\n",
        "\n",
        "\n",
        "class MyCollator:\n",
        "    def __init__(self, config, dataset):\n",
        "        self.dataset = dataset\n",
        "        self.num_fa = dataset.num_fa\n",
        "        self.num_fb = dataset.num_fb\n",
        "        self.n_negative = config.n_negative\n",
        "\n",
        "    def __call__(self, batch):\n",
        "        N = len(batch)\n",
        "        pos_a_features = [] \n",
        "        pos_b_features = []\n",
        "        neg_b_features = []\n",
        "        neg_mask = []\n",
        "        for i, pos_case in enumerate(batch):\n",
        "            neg_sample = self.dataset.sample(self.n_negative, drop_id=pos_case[0])\n",
        "            pos_a_features.append(pos_case[1])\n",
        "            pos_b_features.append(pos_case[2])\n",
        "            neg_b_features.append([])\n",
        "            neg_mask.append([])\n",
        "            for j, neg_case in enumerate(neg_sample):\n",
        "                neg_mask[i].append(1)\n",
        "                neg_b_features[i].append(neg_case[2])\n",
        "            pad_num = self.n_negative - len(neg_mask[i])\n",
        "            neg_mask[i].extend([0] * pad_num)\n",
        "            neg_b_features[i].extend([[0] * self.num_fb] * pad_num)\n",
        "\n",
        "        return {'pos_a': torch.LongTensor(pos_a_features).cuda(), \n",
        "                'pos_b': torch.LongTensor(pos_b_features).cuda(), \n",
        "                'neg_b': torch.LongTensor(neg_b_features).cuda(),\n",
        "                'neg_mask': torch.FloatTensor(neg_mask).cuda()}"
      ],
      "execution_count": null,
      "outputs": []
    },
    {
      "cell_type": "code",
      "metadata": {
        "id": "7S0ovdlv04cK"
      },
      "source": [
        "#model.py\n",
        "\n",
        "class InnerProductSimilarity(nn.Module):\n",
        "    def __init__(self, temp):\n",
        "        super(InnerProductSimilarity, self).__init__()\n",
        "        self.temp = temp\n",
        "\n",
        "    def forward(self, a, b):\n",
        "        d = a.shape[1]\n",
        "        a = a.unsqueeze(1)  # N x 1 x dim\n",
        "        if len(b.shape) == 2:\n",
        "            b = b.unsqueeze(2)  # N x dim x 1\n",
        "            similarity = torch.bmm(a, b).squeeze()\n",
        "        elif len(b.shape) == 3:\n",
        "            # N x neg x dim\n",
        "            similarity = torch.sum(a * b, dim=(-1,))\n",
        "        else:\n",
        "            assert False\n",
        "        return similarity / pow(d, self.temp)   # [N] or [N x n_neg]\n",
        "\n",
        "\n",
        "class MarginRankingLoss(nn.Module):\n",
        "    def __init__(self, margin=1., aggregate=torch.mean):\n",
        "        super(MarginRankingLoss, self).__init__()\n",
        "        self.margin = margin\n",
        "        self.aggregate = aggregate\n",
        "\n",
        "    def forward(self, positive_similarity, negative_similarity, negative_mask):\n",
        "        \"\"\"\n",
        "        :param positive_similarity: [N]\n",
        "        :param negative_similarity: [N x K]\n",
        "        :param negative_mask: [N x K]\n",
        "        :return:\n",
        "        \"\"\"\n",
        "        positive_similarity = positive_similarity.unsqueeze(1)\n",
        "        return self.aggregate(\n",
        "            torch.clamp((self.margin - positive_similarity + negative_similarity) * negative_mask, min=0))\n",
        "\n",
        "\n",
        "class MutSpace(nn.Module):\n",
        "    def __init__(self, config, n_features):\n",
        "        super(MutSpace, self).__init__()\n",
        "        self.config = config\n",
        "        self.embedding = nn.Embedding(n_features, config.emb_dim, max_norm=config.max_norm)\n",
        "        self.similarity = InnerProductSimilarity(config.temp)\n",
        "        self.loss = MarginRankingLoss(margin=config.margin)\n",
        "        self.optimizer = Adam(self.parameters(), lr=config.lr)\n",
        "\n",
        "    def forward(self, batch):\n",
        "        neg_mask = batch['neg_mask']            # [N x n_neg]\n",
        "        pos_a = self.embedding(batch['pos_a'])  # [N x n_a x d]\n",
        "        pos_b = self.embedding(batch['pos_b'])  # [N x n_b x d]\n",
        "        neg_b = self.embedding(batch['neg_b'])  # [N x n_neg x n_b x d]\n",
        "        pos_a = pos_a.sum(dim=1) / pow(pos_a.shape[1], 0.5)\n",
        "        pos_b = pos_b.sum(dim=1) / pow(pos_b.shape[1], 0.5)\n",
        "        neg_b = neg_b.sum(dim=2) / pow(neg_b.shape[2], 0.5)\n",
        "        pos_score = self.similarity(pos_a, pos_b)\n",
        "        neg_score = self.similarity(pos_a, neg_b)\n",
        "        return self.loss(pos_score, neg_score, neg_mask), pos_score, neg_score\n",
        "\n",
        "    def train_batch(self, batch):\n",
        "        self.train()\n",
        "        loss, pos_score, neg_score = self.forward(batch)\n",
        "        loss.backward()\n",
        "        self.optimizer.step()\n",
        "        self.optimizer.zero_grad()\n",
        "        return loss.item(), pos_score.mean().item(), neg_score.mean().item()"
      ],
      "execution_count": null,
      "outputs": []
    },
    {
      "cell_type": "code",
      "metadata": {
        "colab": {
          "base_uri": "https://localhost:8080/"
        },
        "id": "lwCOTI5p1BXM",
        "outputId": "d438cba6-b731-4bd6-ecc8-ce9b3beb9275"
      },
      "source": [
        "#train.py\n",
        "\n",
        "def save_settings():\n",
        "    '''\n",
        "    Save parameters into a json file\n",
        "    '''\n",
        "    torch.manual_seed(config.seed)\n",
        "    torch.cuda.manual_seed(config.seed)\n",
        "    np.random.seed(config.seed)\n",
        "    os.makedirs(config.ckpt_path, exist_ok=True)\n",
        "    setting_fn = os.path.join(config.ckpt_path, f'setting.json')\n",
        "    json.dump(config.__dict__, open(setting_fn, 'w'))\n",
        "\n",
        "def parse_arg():\n",
        "    ''' \n",
        "    parse parameters\n",
        "    '''\n",
        "    parser = argparse.ArgumentParser()\n",
        "    parser.add_argument('--name', type=str, help=\"Name or ID of this run. A folder with this name will be created in the directory where this script is being executed\")\n",
        "    parser.add_argument('--data_path', type=str, help=\"Directory of mutation data\")\n",
        "    parser.add_argument('--ring_num', type=int, default=6, help=\"Number of sub-components for the sequence context\")\n",
        "    parser.add_argument('--ring_width', type=int, default=1, help=\"The width of sequence sub-component\")\n",
        "    parser.add_argument('--margin', type=float, default=1.0, help=\"The constant margin parameter in the hinge-loss function, default is 1.0\")\n",
        "    parser.add_argument('--max_norm', type=float, default=10.0, help=\"The Max norm of embeddings, default is 10.0\")\n",
        "    parser.add_argument('--emb_dim', type=int, default=200, help=\"Dimension of embedded vector, default is 200\")\n",
        "    parser.add_argument('--epochs', type=int, default=50, help=\"Number of epochs before training is stopped\")\n",
        "    parser.add_argument('--batch_size', type=int, default=4096, help=\"Batch size, default is 4096\")\n",
        "    parser.add_argument('--lr', type=float, default=1e-3, help=\"Learning rate, default is 1e-3\")\n",
        "    parser.add_argument('--n_negative', type=int, default=15, help=\"Number of negative samples per positive sample generated through negative sampling, default is 15\")\n",
        "    #parser.add_argument('--verbose_step', type=int, default=500, help=\"verbose level\")\n",
        "    parser.add_argument('--debug', action='store_true', help=\"\")\n",
        "    parser.add_argument('--temp', type=float, default=1.0, help=\"Normalization parameter for calculation of similarity\")\n",
        "    parser.add_argument('--seed', type=int, default=888, help=\"Random seed, default is 888\")\n",
        "    # if len(sys.argv) < 2:\n",
        "    #     print(parser.print_help())\n",
        "    #     exit(1)\n",
        "    return parser.parse_args(args=[])\n",
        "\n",
        "if __name__ == \"__main__\":\n",
        "    # set parameters\n",
        "    config = parse_arg()\n",
        "    config.data_path = '/content/drive/My Drive/MutSpace/demo_data/ICGC-BRCA-EU/'\n",
        "    config.name = 'ICGC-BRCA-EU'\n",
        "    config.temp = 1.0\n",
        "    config.seed = 88\n",
        "    config.ring_num = 5\n",
        "    config.ring_width = 1\n",
        "    # set check point output folder\n",
        "    config.ckpt_path = f'/content/drive/My Drive/MutSpace/demo_data/ICGC-BRCA-EU/ckpt/{config.name}'\n",
        "    # save parameters\n",
        "    save_settings()\n",
        "    record_fout = open(os.path.join(config.ckpt_path, 'record.txt'), 'a')\n",
        "    # load mutation data\n",
        "    dataset = MutationDataset(config, config.data_path)\n",
        "    patient_mapping_fn = join(config.ckpt_path, 'patient_mapping.json')\n",
        "    print(f'Total mutation = {len(dataset)}')\n",
        "    mycollator = MyCollator(config, dataset)\n",
        "    dataloader = DataLoader(dataset,\n",
        "                            batch_size=config.batch_size,\n",
        "                            shuffle=True,\n",
        "                            num_workers=0,\n",
        "                            collate_fn=mycollator)\n",
        "    # training process\n",
        "    model = MutSpace(config=config, n_features=dataset.feature_num)\n",
        "    model = model.cuda()\n",
        "    config.verbose_step = len(dataloader) // 2\n",
        "    range_loss = range_ps = range_ns = 0\n",
        "    for epc in range(config.epochs):\n",
        "        for step, batch in enumerate(tqdm(dataloader)):\n",
        "            loss, ps, ns = model.train_batch(batch)\n",
        "            range_loss += loss\n",
        "            range_ps += ps\n",
        "            range_ns += ns\n",
        "            if (step + 1) % config.verbose_step == 0:\n",
        "                log = f'loss = {range_loss / config.verbose_step} pos score = {range_ps / config.verbose_step}, neg score = {range_ns / config.verbose_step}\\n'\n",
        "                print(log)\n",
        "                record_fout.writelines(log)\n",
        "                range_loss = range_ps = range_ns = 0\n",
        "\n",
        "        torch.save(model.state_dict(), f'/content/drive/My Drive/MutSpace/demo_data/ICGC-BRCA-EU/ckpt/{config.name}/{epc}.pth')\n",
        "    # finish\n",
        "    record_fout.close()"
      ],
      "execution_count": null,
      "outputs": [
        {
          "output_type": "stream",
          "text": [
            "<_io.TextIOWrapper name='/content/drive/My Drive/MutSpace/demo_data/ICGC-BRCA-EU/meta.json' mode='r' encoding='UTF-8'>\n",
            "['ICGC-BRCA-EU']\n",
            "Loading ICGC-BRCA-EU...\n",
            "Total mutation = 3263296\n"
          ],
          "name": "stdout"
        },
        {
          "output_type": "stream",
          "text": [
            " 50%|████▉     | 398/797 [01:29<01:27,  4.58it/s]"
          ],
          "name": "stderr"
        },
        {
          "output_type": "stream",
          "text": [
            "loss = 0.9881439674739263 pos score = 0.006210270961043109, neg score = -0.00013228240182893867\n",
            "\n"
          ],
          "name": "stdout"
        },
        {
          "output_type": "stream",
          "text": [
            "100%|██████████| 797/797 [02:59<00:00,  4.45it/s]"
          ],
          "name": "stderr"
        },
        {
          "output_type": "stream",
          "text": [
            "loss = 0.9467039660892295 pos score = 0.0481834588946784, neg score = -0.000459961990072119\n",
            "\n"
          ],
          "name": "stdout"
        },
        {
          "output_type": "stream",
          "text": [
            "\n",
            " 50%|████▉     | 398/797 [01:29<01:24,  4.71it/s]"
          ],
          "name": "stderr"
        },
        {
          "output_type": "stream",
          "text": [
            "loss = 0.8794479450987811 pos score = 0.11599738384835684, neg score = -0.0041019044820589\n",
            "\n"
          ],
          "name": "stdout"
        },
        {
          "output_type": "stream",
          "text": [
            "100%|██████████| 797/797 [02:56<00:00,  4.52it/s]"
          ],
          "name": "stderr"
        },
        {
          "output_type": "stream",
          "text": [
            "loss = 0.8357611091891725 pos score = 0.16238801873958292, neg score = -0.0037542748797438695\n",
            "\n"
          ],
          "name": "stdout"
        },
        {
          "output_type": "stream",
          "text": [
            "\n",
            " 50%|████▉     | 398/797 [01:29<01:28,  4.53it/s]"
          ],
          "name": "stderr"
        },
        {
          "output_type": "stream",
          "text": [
            "loss = 0.8236102268623946 pos score = 0.1836144214299456, neg score = -0.0019444895643675236\n",
            "\n"
          ],
          "name": "stdout"
        },
        {
          "output_type": "stream",
          "text": [
            "100%|██████████| 797/797 [02:58<00:00,  4.47it/s]"
          ],
          "name": "stderr"
        },
        {
          "output_type": "stream",
          "text": [
            "loss = 0.8158629081357065 pos score = 0.19163842192247285, neg score = -0.0011782654631050074\n",
            "\n"
          ],
          "name": "stdout"
        },
        {
          "output_type": "stream",
          "text": [
            "\n",
            " 50%|████▉     | 398/797 [01:28<01:25,  4.67it/s]"
          ],
          "name": "stderr"
        },
        {
          "output_type": "stream",
          "text": [
            "loss = 0.8136562538805918 pos score = 0.19783356149292472, neg score = -0.0010225758165904552\n",
            "\n"
          ],
          "name": "stdout"
        },
        {
          "output_type": "stream",
          "text": [
            "100%|██████████| 797/797 [02:56<00:00,  4.53it/s]"
          ],
          "name": "stderr"
        },
        {
          "output_type": "stream",
          "text": [
            "loss = 0.8085519830186163 pos score = 0.20144028898010302, neg score = -0.0008529384082002841\n",
            "\n"
          ],
          "name": "stdout"
        },
        {
          "output_type": "stream",
          "text": [
            "\n",
            " 50%|████▉     | 398/797 [01:29<01:27,  4.57it/s]"
          ],
          "name": "stderr"
        },
        {
          "output_type": "stream",
          "text": [
            "loss = 0.808043666371149 pos score = 0.20548102559156753, neg score = -0.000734069426203887\n",
            "\n"
          ],
          "name": "stdout"
        },
        {
          "output_type": "stream",
          "text": [
            "100%|██████████| 797/797 [02:59<00:00,  4.44it/s]"
          ],
          "name": "stderr"
        },
        {
          "output_type": "stream",
          "text": [
            "loss = 0.8055650955768087 pos score = 0.20603597044345723, neg score = -0.0005540207148670794\n",
            "\n"
          ],
          "name": "stdout"
        },
        {
          "output_type": "stream",
          "text": [
            "\n",
            " 50%|████▉     | 398/797 [01:27<01:26,  4.62it/s]"
          ],
          "name": "stderr"
        },
        {
          "output_type": "stream",
          "text": [
            "loss = 0.8059293575322808 pos score = 0.2089616497557367, neg score = -0.0002849304542979009\n",
            "\n"
          ],
          "name": "stdout"
        },
        {
          "output_type": "stream",
          "text": [
            "100%|██████████| 797/797 [02:54<00:00,  4.57it/s]"
          ],
          "name": "stderr"
        },
        {
          "output_type": "stream",
          "text": [
            "loss = 0.8030204435988287 pos score = 0.20952454497616493, neg score = -0.00041631293078897206\n",
            "\n"
          ],
          "name": "stdout"
        },
        {
          "output_type": "stream",
          "text": [
            "\n",
            " 50%|████▉     | 398/797 [01:29<01:32,  4.31it/s]"
          ],
          "name": "stderr"
        },
        {
          "output_type": "stream",
          "text": [
            "loss = 0.8043813467325278 pos score = 0.21127173787535136, neg score = -0.00010443543143178911\n",
            "\n"
          ],
          "name": "stdout"
        },
        {
          "output_type": "stream",
          "text": [
            "100%|█████████▉| 796/797 [03:00<00:00,  4.35it/s]"
          ],
          "name": "stderr"
        },
        {
          "output_type": "stream",
          "text": [
            "loss = 0.8018079955673697 pos score = 0.2117063794378659, neg score = 0.00015227208724159186\n",
            "\n"
          ],
          "name": "stdout"
        },
        {
          "output_type": "stream",
          "text": [
            "100%|██████████| 797/797 [03:00<00:00,  4.42it/s]\n",
            " 50%|████▉     | 398/797 [01:32<01:29,  4.48it/s]"
          ],
          "name": "stderr"
        },
        {
          "output_type": "stream",
          "text": [
            "loss = 0.8028777395960075 pos score = 0.21365729045478543, neg score = 0.0004745114011776404\n",
            "\n"
          ],
          "name": "stdout"
        },
        {
          "output_type": "stream",
          "text": [
            "100%|██████████| 797/797 [03:02<00:00,  4.36it/s]"
          ],
          "name": "stderr"
        },
        {
          "output_type": "stream",
          "text": [
            "loss = 0.8015383171975313 pos score = 0.2125897425502988, neg score = 0.0005644300729421335\n",
            "\n"
          ],
          "name": "stdout"
        },
        {
          "output_type": "stream",
          "text": [
            "\n",
            " 50%|████▉     | 398/797 [01:29<01:29,  4.46it/s]"
          ],
          "name": "stderr"
        },
        {
          "output_type": "stream",
          "text": [
            "loss = 0.8027455197207293 pos score = 0.2140644175847571, neg score = 0.0006055943597254266\n",
            "\n"
          ],
          "name": "stdout"
        },
        {
          "output_type": "stream",
          "text": [
            "100%|██████████| 797/797 [03:00<00:00,  4.43it/s]"
          ],
          "name": "stderr"
        },
        {
          "output_type": "stream",
          "text": [
            "loss = 0.8003804957746861 pos score = 0.2143590395249913, neg score = 0.0010668325123720462\n",
            "\n"
          ],
          "name": "stdout"
        },
        {
          "output_type": "stream",
          "text": [
            "\n",
            " 50%|████▉     | 398/797 [01:31<01:30,  4.39it/s]"
          ],
          "name": "stderr"
        },
        {
          "output_type": "stream",
          "text": [
            "loss = 0.8022009236129684 pos score = 0.21520494774508117, neg score = 0.0011535191141770133\n",
            "\n"
          ],
          "name": "stdout"
        },
        {
          "output_type": "stream",
          "text": [
            "100%|██████████| 797/797 [03:02<00:00,  4.37it/s]"
          ],
          "name": "stderr"
        },
        {
          "output_type": "stream",
          "text": [
            "loss = 0.8002929554213232 pos score = 0.21497388434919282, neg score = 0.0015412106182469158\n",
            "\n"
          ],
          "name": "stdout"
        },
        {
          "output_type": "stream",
          "text": [
            "\n",
            " 50%|████▉     | 398/797 [01:30<01:28,  4.50it/s]"
          ],
          "name": "stderr"
        },
        {
          "output_type": "stream",
          "text": [
            "loss = 0.8019509898058733 pos score = 0.2160345739006397, neg score = 0.0016900239245867521\n",
            "\n"
          ],
          "name": "stdout"
        },
        {
          "output_type": "stream",
          "text": [
            "100%|█████████▉| 796/797 [02:58<00:00,  4.39it/s]"
          ],
          "name": "stderr"
        },
        {
          "output_type": "stream",
          "text": [
            "loss = 0.7997606330780528 pos score = 0.21561455340990468, neg score = 0.0015350154329055168\n",
            "\n"
          ],
          "name": "stdout"
        },
        {
          "output_type": "stream",
          "text": [
            "100%|██████████| 797/797 [02:59<00:00,  4.45it/s]\n",
            " 50%|████▉     | 398/797 [01:30<01:27,  4.56it/s]"
          ],
          "name": "stderr"
        },
        {
          "output_type": "stream",
          "text": [
            "loss = 0.801459159833103 pos score = 0.2166059962918411, neg score = 0.0016373528082142606\n",
            "\n"
          ],
          "name": "stdout"
        },
        {
          "output_type": "stream",
          "text": [
            "100%|█████████▉| 796/797 [02:59<00:00,  4.60it/s]"
          ],
          "name": "stderr"
        },
        {
          "output_type": "stream",
          "text": [
            "loss = 0.7997232955604342 pos score = 0.21602018458310085, neg score = 0.0018473258227203217\n",
            "\n"
          ],
          "name": "stdout"
        },
        {
          "output_type": "stream",
          "text": [
            "100%|██████████| 797/797 [02:59<00:00,  4.43it/s]\n",
            " 50%|████▉     | 398/797 [01:27<01:28,  4.52it/s]"
          ],
          "name": "stderr"
        },
        {
          "output_type": "stream",
          "text": [
            "loss = 0.801801706229023 pos score = 0.2169882079314946, neg score = 0.0023241101398571344\n",
            "\n"
          ],
          "name": "stdout"
        },
        {
          "output_type": "stream",
          "text": [
            "100%|██████████| 797/797 [02:56<00:00,  4.52it/s]"
          ],
          "name": "stderr"
        },
        {
          "output_type": "stream",
          "text": [
            "loss = 0.7990849795353473 pos score = 0.2169408110443072, neg score = 0.0020245956565922503\n",
            "\n"
          ],
          "name": "stdout"
        },
        {
          "output_type": "stream",
          "text": [
            "\n",
            " 50%|████▉     | 398/797 [01:30<01:30,  4.42it/s]"
          ],
          "name": "stderr"
        },
        {
          "output_type": "stream",
          "text": [
            "loss = 0.8016031026540689 pos score = 0.21728889865042575, neg score = 0.0022421636315368746\n",
            "\n"
          ],
          "name": "stdout"
        },
        {
          "output_type": "stream",
          "text": [
            "100%|█████████▉| 796/797 [03:02<00:00,  4.34it/s]"
          ],
          "name": "stderr"
        },
        {
          "output_type": "stream",
          "text": [
            "loss = 0.7991185432402932 pos score = 0.21737993265216674, neg score = 0.0023267690493819133\n",
            "\n"
          ],
          "name": "stdout"
        },
        {
          "output_type": "stream",
          "text": [
            "100%|██████████| 797/797 [03:02<00:00,  4.36it/s]\n",
            " 50%|████▉     | 398/797 [01:28<01:27,  4.57it/s]"
          ],
          "name": "stderr"
        },
        {
          "output_type": "stream",
          "text": [
            "loss = 0.8010173997088293 pos score = 0.2180633953393404, neg score = 0.0022979738954421207\n",
            "\n"
          ],
          "name": "stdout"
        },
        {
          "output_type": "stream",
          "text": [
            "100%|██████████| 797/797 [02:56<00:00,  4.51it/s]"
          ],
          "name": "stderr"
        },
        {
          "output_type": "stream",
          "text": [
            "loss = 0.7992008072347497 pos score = 0.21738182850668777, neg score = 0.002357164470397641\n",
            "\n"
          ],
          "name": "stdout"
        },
        {
          "output_type": "stream",
          "text": [
            "\n",
            " 50%|████▉     | 398/797 [01:28<01:26,  4.60it/s]"
          ],
          "name": "stderr"
        },
        {
          "output_type": "stream",
          "text": [
            "loss = 0.8013134950668968 pos score = 0.2178856379647351, neg score = 0.0023338391027246143\n",
            "\n"
          ],
          "name": "stdout"
        },
        {
          "output_type": "stream",
          "text": [
            "100%|█████████▉| 796/797 [02:58<00:00,  4.43it/s]"
          ],
          "name": "stderr"
        },
        {
          "output_type": "stream",
          "text": [
            "loss = 0.7987029354775971 pos score = 0.21823594618083245, neg score = 0.002663034666306999\n",
            "\n"
          ],
          "name": "stdout"
        },
        {
          "output_type": "stream",
          "text": [
            "100%|██████████| 797/797 [02:58<00:00,  4.47it/s]\n",
            " 50%|████▉     | 398/797 [01:26<01:26,  4.63it/s]"
          ],
          "name": "stderr"
        },
        {
          "output_type": "stream",
          "text": [
            "loss = 0.8006298808596242 pos score = 0.2187803026344908, neg score = 0.0024984231142084422\n",
            "\n"
          ],
          "name": "stdout"
        },
        {
          "output_type": "stream",
          "text": [
            "100%|██████████| 797/797 [02:52<00:00,  4.61it/s]"
          ],
          "name": "stderr"
        },
        {
          "output_type": "stream",
          "text": [
            "loss = 0.7989495967201252 pos score = 0.21808351471495988, neg score = 0.0026269032792565006\n",
            "\n"
          ],
          "name": "stdout"
        },
        {
          "output_type": "stream",
          "text": [
            "\n",
            " 50%|████▉     | 398/797 [01:27<01:25,  4.67it/s]"
          ],
          "name": "stderr"
        },
        {
          "output_type": "stream",
          "text": [
            "loss = 0.8012887941832518 pos score = 0.21836962329981915, neg score = 0.0027008700988919564\n",
            "\n"
          ],
          "name": "stdout"
        },
        {
          "output_type": "stream",
          "text": [
            "100%|██████████| 797/797 [02:54<00:00,  4.56it/s]"
          ],
          "name": "stderr"
        },
        {
          "output_type": "stream",
          "text": [
            "loss = 0.7984128025308925 pos score = 0.21869917842910516, neg score = 0.002657471293869505\n",
            "\n"
          ],
          "name": "stdout"
        },
        {
          "output_type": "stream",
          "text": [
            "\n",
            " 50%|████▉     | 398/797 [01:29<01:27,  4.57it/s]"
          ],
          "name": "stderr"
        },
        {
          "output_type": "stream",
          "text": [
            "loss = 0.8007738647149436 pos score = 0.21907363599868276, neg score = 0.002910209370059616\n",
            "\n"
          ],
          "name": "stdout"
        },
        {
          "output_type": "stream",
          "text": [
            "100%|██████████| 797/797 [02:57<00:00,  4.50it/s]"
          ],
          "name": "stderr"
        },
        {
          "output_type": "stream",
          "text": [
            "loss = 0.7986699529928178 pos score = 0.21870783873688635, neg score = 0.002868477717131566\n",
            "\n"
          ],
          "name": "stdout"
        },
        {
          "output_type": "stream",
          "text": [
            "\n",
            " 50%|████▉     | 398/797 [01:29<01:29,  4.47it/s]"
          ],
          "name": "stderr"
        },
        {
          "output_type": "stream",
          "text": [
            "loss = 0.800710377531435 pos score = 0.2192627630715993, neg score = 0.002901472286944124\n",
            "\n"
          ],
          "name": "stdout"
        },
        {
          "output_type": "stream",
          "text": [
            "100%|██████████| 797/797 [02:56<00:00,  4.50it/s]"
          ],
          "name": "stderr"
        },
        {
          "output_type": "stream",
          "text": [
            "loss = 0.7987354048831978 pos score = 0.21870273624982067, neg score = 0.0029451023931780593\n",
            "\n"
          ],
          "name": "stdout"
        },
        {
          "output_type": "stream",
          "text": [
            "\n",
            " 50%|████▉     | 398/797 [01:30<01:24,  4.72it/s]"
          ],
          "name": "stderr"
        },
        {
          "output_type": "stream",
          "text": [
            "loss = 0.8004965535060844 pos score = 0.21972951060862997, neg score = 0.0031313115673583525\n",
            "\n"
          ],
          "name": "stdout"
        },
        {
          "output_type": "stream",
          "text": [
            "100%|██████████| 797/797 [02:56<00:00,  4.50it/s]"
          ],
          "name": "stderr"
        },
        {
          "output_type": "stream",
          "text": [
            "loss = 0.7988527875449789 pos score = 0.218776831525055, neg score = 0.0030842948661750106\n",
            "\n"
          ],
          "name": "stdout"
        },
        {
          "output_type": "stream",
          "text": [
            "\n",
            " 50%|████▉     | 398/797 [01:28<01:29,  4.47it/s]"
          ],
          "name": "stderr"
        },
        {
          "output_type": "stream",
          "text": [
            "loss = 0.8007755370894868 pos score = 0.2193662143831876, neg score = 0.0030911863657719957\n",
            "\n"
          ],
          "name": "stdout"
        },
        {
          "output_type": "stream",
          "text": [
            "100%|██████████| 797/797 [02:57<00:00,  4.50it/s]"
          ],
          "name": "stderr"
        },
        {
          "output_type": "stream",
          "text": [
            "loss = 0.7983852990308599 pos score = 0.2192399200407704, neg score = 0.0030990417631782197\n",
            "\n"
          ],
          "name": "stdout"
        },
        {
          "output_type": "stream",
          "text": [
            "\n",
            " 50%|████▉     | 398/797 [01:29<01:30,  4.42it/s]"
          ],
          "name": "stderr"
        },
        {
          "output_type": "stream",
          "text": [
            "loss = 0.8005979052141085 pos score = 0.21997234689530415, neg score = 0.0033911521698899005\n",
            "\n"
          ],
          "name": "stdout"
        },
        {
          "output_type": "stream",
          "text": [
            "100%|██████████| 797/797 [02:58<00:00,  4.67it/s]"
          ],
          "name": "stderr"
        },
        {
          "output_type": "stream",
          "text": [
            "loss = 0.7984265211838574 pos score = 0.2192290166215082, neg score = 0.0030815832014466182\n",
            "\n"
          ],
          "name": "stdout"
        },
        {
          "output_type": "stream",
          "text": [
            "100%|██████████| 797/797 [02:58<00:00,  4.46it/s]\n",
            " 50%|████▉     | 398/797 [01:29<01:27,  4.55it/s]"
          ],
          "name": "stderr"
        },
        {
          "output_type": "stream",
          "text": [
            "loss = 0.8001926198377082 pos score = 0.22030982981674635, neg score = 0.003233461086468515\n",
            "\n"
          ],
          "name": "stdout"
        },
        {
          "output_type": "stream",
          "text": [
            "100%|██████████| 797/797 [02:56<00:00,  4.52it/s]"
          ],
          "name": "stderr"
        },
        {
          "output_type": "stream",
          "text": [
            "loss = 0.7987762935197533 pos score = 0.21910006197253665, neg score = 0.003250683099483225\n",
            "\n"
          ],
          "name": "stdout"
        },
        {
          "output_type": "stream",
          "text": [
            "\n",
            " 50%|████▉     | 398/797 [01:29<01:26,  4.62it/s]"
          ],
          "name": "stderr"
        },
        {
          "output_type": "stream",
          "text": [
            "loss = 0.79998866112987 pos score = 0.2205376087421149, neg score = 0.0033231002445090916\n",
            "\n"
          ],
          "name": "stdout"
        },
        {
          "output_type": "stream",
          "text": [
            "100%|██████████| 797/797 [02:57<00:00,  4.50it/s]"
          ],
          "name": "stderr"
        },
        {
          "output_type": "stream",
          "text": [
            "loss = 0.798754798557291 pos score = 0.21922116752844958, neg score = 0.003374818206263704\n",
            "\n"
          ],
          "name": "stdout"
        },
        {
          "output_type": "stream",
          "text": [
            "\n",
            " 50%|████▉     | 398/797 [01:25<01:26,  4.60it/s]"
          ],
          "name": "stderr"
        },
        {
          "output_type": "stream",
          "text": [
            "loss = 0.8003812222624543 pos score = 0.2202545007194706, neg score = 0.003482888350137771\n",
            "\n"
          ],
          "name": "stdout"
        },
        {
          "output_type": "stream",
          "text": [
            "100%|██████████| 797/797 [02:53<00:00,  4.58it/s]"
          ],
          "name": "stderr"
        },
        {
          "output_type": "stream",
          "text": [
            "loss = 0.7982194817545426 pos score = 0.21976765013070562, neg score = 0.003422915490133603\n",
            "\n"
          ],
          "name": "stdout"
        },
        {
          "output_type": "stream",
          "text": [
            "\n",
            " 50%|████▉     | 398/797 [01:28<01:29,  4.45it/s]"
          ],
          "name": "stderr"
        },
        {
          "output_type": "stream",
          "text": [
            "loss = 0.8001084245329526 pos score = 0.22047404042590205, neg score = 0.003414933151873642\n",
            "\n"
          ],
          "name": "stdout"
        },
        {
          "output_type": "stream",
          "text": [
            "100%|██████████| 797/797 [02:58<00:00,  4.47it/s]"
          ],
          "name": "stderr"
        },
        {
          "output_type": "stream",
          "text": [
            "loss = 0.7982374420717134 pos score = 0.2197920438557414, neg score = 0.0034219032654733044\n",
            "\n"
          ],
          "name": "stdout"
        },
        {
          "output_type": "stream",
          "text": [
            "\n",
            " 50%|████▉     | 398/797 [01:28<04:20,  1.53it/s]"
          ],
          "name": "stderr"
        },
        {
          "output_type": "stream",
          "text": [
            "loss = 0.800070718005674 pos score = 0.2208057404238375, neg score = 0.0036493567420565975\n",
            "\n"
          ],
          "name": "stdout"
        },
        {
          "output_type": "stream",
          "text": [
            "100%|██████████| 797/797 [02:57<00:00,  4.50it/s]"
          ],
          "name": "stderr"
        },
        {
          "output_type": "stream",
          "text": [
            "loss = 0.7984141533698269 pos score = 0.21988893783272212, neg score = 0.003685554858213491\n",
            "\n"
          ],
          "name": "stdout"
        },
        {
          "output_type": "stream",
          "text": [
            "\n",
            " 50%|████▉     | 398/797 [01:30<01:26,  4.59it/s]"
          ],
          "name": "stderr"
        },
        {
          "output_type": "stream",
          "text": [
            "loss = 0.8001997866223206 pos score = 0.22078476393192856, neg score = 0.0037942534668195436\n",
            "\n"
          ],
          "name": "stdout"
        },
        {
          "output_type": "stream",
          "text": [
            "100%|██████████| 797/797 [02:59<00:00,  4.43it/s]"
          ],
          "name": "stderr"
        },
        {
          "output_type": "stream",
          "text": [
            "loss = 0.7981135440831209 pos score = 0.2202586199919782, neg score = 0.003751760649852921\n",
            "\n"
          ],
          "name": "stdout"
        },
        {
          "output_type": "stream",
          "text": [
            "\n",
            " 50%|████▉     | 398/797 [01:27<01:29,  4.46it/s]"
          ],
          "name": "stderr"
        },
        {
          "output_type": "stream",
          "text": [
            "loss = 0.7999962117504235 pos score = 0.22094241499751058, neg score = 0.0037324383964613245\n",
            "\n"
          ],
          "name": "stdout"
        },
        {
          "output_type": "stream",
          "text": [
            "100%|██████████| 797/797 [02:55<00:00,  4.54it/s]"
          ],
          "name": "stderr"
        },
        {
          "output_type": "stream",
          "text": [
            "loss = 0.7983230491678919 pos score = 0.21999048640081031, neg score = 0.003711591641396223\n",
            "\n"
          ],
          "name": "stdout"
        },
        {
          "output_type": "stream",
          "text": [
            "\n",
            " 50%|████▉     | 398/797 [01:29<01:29,  4.44it/s]"
          ],
          "name": "stderr"
        },
        {
          "output_type": "stream",
          "text": [
            "loss = 0.800183484901735 pos score = 0.22081860821301014, neg score = 0.003792060367179339\n",
            "\n"
          ],
          "name": "stdout"
        },
        {
          "output_type": "stream",
          "text": [
            "100%|██████████| 797/797 [02:59<00:00,  4.44it/s]"
          ],
          "name": "stderr"
        },
        {
          "output_type": "stream",
          "text": [
            "loss = 0.7979270281204626 pos score = 0.22048804399805452, neg score = 0.0038175714093412623\n",
            "\n"
          ],
          "name": "stdout"
        },
        {
          "output_type": "stream",
          "text": [
            "\n",
            " 50%|████▉     | 398/797 [01:28<01:29,  4.46it/s]"
          ],
          "name": "stderr"
        },
        {
          "output_type": "stream",
          "text": [
            "loss = 0.7998599907261642 pos score = 0.2213234283292114, neg score = 0.00396000529380715\n",
            "\n"
          ],
          "name": "stdout"
        },
        {
          "output_type": "stream",
          "text": [
            "100%|██████████| 797/797 [02:55<00:00,  4.62it/s]"
          ],
          "name": "stderr"
        },
        {
          "output_type": "stream",
          "text": [
            "loss = 0.798205723415068 pos score = 0.22021130120484672, neg score = 0.0038241125500620334\n",
            "\n"
          ],
          "name": "stdout"
        },
        {
          "output_type": "stream",
          "text": [
            "100%|██████████| 797/797 [02:55<00:00,  4.53it/s]\n",
            " 50%|████▉     | 398/797 [01:26<01:26,  4.63it/s]"
          ],
          "name": "stderr"
        },
        {
          "output_type": "stream",
          "text": [
            "loss = 0.800089677524327 pos score = 0.22096085177743854, neg score = 0.0038993597893729553\n",
            "\n"
          ],
          "name": "stdout"
        },
        {
          "output_type": "stream",
          "text": [
            "100%|██████████| 797/797 [02:54<00:00,  4.56it/s]"
          ],
          "name": "stderr"
        },
        {
          "output_type": "stream",
          "text": [
            "loss = 0.797891985381668 pos score = 0.22073300122915201, neg score = 0.004009734965366084\n",
            "\n"
          ],
          "name": "stdout"
        },
        {
          "output_type": "stream",
          "text": [
            "\n",
            " 50%|████▉     | 398/797 [01:28<01:29,  4.48it/s]"
          ],
          "name": "stderr"
        },
        {
          "output_type": "stream",
          "text": [
            "loss = 0.7996224626224844 pos score = 0.22163268556846447, neg score = 0.004070628619983973\n",
            "\n"
          ],
          "name": "stdout"
        },
        {
          "output_type": "stream",
          "text": [
            "100%|██████████| 797/797 [02:57<00:00,  4.66it/s]"
          ],
          "name": "stderr"
        },
        {
          "output_type": "stream",
          "text": [
            "loss = 0.7982568023492344 pos score = 0.22032501260239876, neg score = 0.003925813416572055\n",
            "\n"
          ],
          "name": "stdout"
        },
        {
          "output_type": "stream",
          "text": [
            "100%|██████████| 797/797 [02:57<00:00,  4.50it/s]\n",
            " 50%|████▉     | 398/797 [01:28<01:26,  4.60it/s]"
          ],
          "name": "stderr"
        },
        {
          "output_type": "stream",
          "text": [
            "loss = 0.7997484536626231 pos score = 0.22168309945407225, neg score = 0.004273238324979379\n",
            "\n"
          ],
          "name": "stdout"
        },
        {
          "output_type": "stream",
          "text": [
            "100%|██████████| 797/797 [02:56<00:00,  4.52it/s]"
          ],
          "name": "stderr"
        },
        {
          "output_type": "stream",
          "text": [
            "loss = 0.798255494192018 pos score = 0.22062003238117275, neg score = 0.004292073144107856\n",
            "\n"
          ],
          "name": "stdout"
        },
        {
          "output_type": "stream",
          "text": [
            "\n",
            " 50%|████▉     | 398/797 [01:28<01:29,  4.48it/s]"
          ],
          "name": "stderr"
        },
        {
          "output_type": "stream",
          "text": [
            "loss = 0.7999715899402772 pos score = 0.22158228635937724, neg score = 0.004343314582102314\n",
            "\n"
          ],
          "name": "stdout"
        },
        {
          "output_type": "stream",
          "text": [
            "100%|██████████| 797/797 [02:58<00:00,  4.46it/s]"
          ],
          "name": "stderr"
        },
        {
          "output_type": "stream",
          "text": [
            "loss = 0.7979931256279873 pos score = 0.22091993891713607, neg score = 0.0042848233759323374\n",
            "\n"
          ],
          "name": "stdout"
        },
        {
          "output_type": "stream",
          "text": [
            "\n",
            " 50%|████▉     | 398/797 [01:29<01:28,  4.51it/s]"
          ],
          "name": "stderr"
        },
        {
          "output_type": "stream",
          "text": [
            "loss = 0.7996497091336466 pos score = 0.22192309662025778, neg score = 0.004348543589126783\n",
            "\n"
          ],
          "name": "stdout"
        },
        {
          "output_type": "stream",
          "text": [
            "100%|██████████| 797/797 [02:57<00:00,  4.49it/s]"
          ],
          "name": "stderr"
        },
        {
          "output_type": "stream",
          "text": [
            "loss = 0.7982835715739571 pos score = 0.22092220378131722, neg score = 0.004614960515571502\n",
            "\n"
          ],
          "name": "stdout"
        },
        {
          "output_type": "stream",
          "text": [
            "\n",
            " 50%|████▉     | 398/797 [01:29<01:30,  4.41it/s]"
          ],
          "name": "stderr"
        },
        {
          "output_type": "stream",
          "text": [
            "loss = 0.7998754501941815 pos score = 0.2218373569112327, neg score = 0.004616545603819567\n",
            "\n"
          ],
          "name": "stdout"
        },
        {
          "output_type": "stream",
          "text": [
            "100%|██████████| 797/797 [02:58<00:00,  4.47it/s]"
          ],
          "name": "stderr"
        },
        {
          "output_type": "stream",
          "text": [
            "loss = 0.7982140361663684 pos score = 0.22090083259583718, neg score = 0.0045259868587737995\n",
            "\n"
          ],
          "name": "stdout"
        },
        {
          "output_type": "stream",
          "text": [
            "\n",
            " 50%|████▉     | 398/797 [01:28<01:30,  4.41it/s]"
          ],
          "name": "stderr"
        },
        {
          "output_type": "stream",
          "text": [
            "loss = 0.8000681097783036 pos score = 0.22178268290344794, neg score = 0.004760858831100427\n",
            "\n"
          ],
          "name": "stdout"
        },
        {
          "output_type": "stream",
          "text": [
            "100%|██████████| 797/797 [02:56<00:00,  4.51it/s]"
          ],
          "name": "stderr"
        },
        {
          "output_type": "stream",
          "text": [
            "loss = 0.7977927316672838 pos score = 0.2214361540785986, neg score = 0.004669278073255847\n",
            "\n"
          ],
          "name": "stdout"
        },
        {
          "output_type": "stream",
          "text": [
            "\n",
            " 50%|████▉     | 398/797 [01:32<01:33,  4.29it/s]"
          ],
          "name": "stderr"
        },
        {
          "output_type": "stream",
          "text": [
            "loss = 0.7994256850762583 pos score = 0.22235701206940503, neg score = 0.00461319839522177\n",
            "\n"
          ],
          "name": "stdout"
        },
        {
          "output_type": "stream",
          "text": [
            "100%|██████████| 797/797 [03:02<00:00,  4.38it/s]"
          ],
          "name": "stderr"
        },
        {
          "output_type": "stream",
          "text": [
            "loss = 0.7982562763906603 pos score = 0.22104544031560122, neg score = 0.0047059473688009276\n",
            "\n"
          ],
          "name": "stdout"
        },
        {
          "output_type": "stream",
          "text": [
            "\n",
            " 50%|████▉     | 398/797 [01:29<01:29,  4.47it/s]"
          ],
          "name": "stderr"
        },
        {
          "output_type": "stream",
          "text": [
            "loss = 0.8000930370996945 pos score = 0.2217082115423739, neg score = 0.00464082188616099\n",
            "\n"
          ],
          "name": "stdout"
        },
        {
          "output_type": "stream",
          "text": [
            "100%|██████████| 797/797 [02:57<00:00,  4.48it/s]"
          ],
          "name": "stderr"
        },
        {
          "output_type": "stream",
          "text": [
            "loss = 0.7975552249793432 pos score = 0.22190510829788956, neg score = 0.004906925350220245\n",
            "\n"
          ],
          "name": "stdout"
        },
        {
          "output_type": "stream",
          "text": [
            "\n",
            " 50%|████▉     | 398/797 [01:29<01:31,  4.38it/s]"
          ],
          "name": "stderr"
        },
        {
          "output_type": "stream",
          "text": [
            "loss = 0.7997351374158908 pos score = 0.2220741538471313, neg score = 0.004694142456662747\n",
            "\n"
          ],
          "name": "stdout"
        },
        {
          "output_type": "stream",
          "text": [
            "100%|██████████| 797/797 [02:59<00:00,  4.43it/s]"
          ],
          "name": "stderr"
        },
        {
          "output_type": "stream",
          "text": [
            "loss = 0.7979710224884838 pos score = 0.2214535169265977, neg score = 0.004885009114556152\n",
            "\n"
          ],
          "name": "stdout"
        },
        {
          "output_type": "stream",
          "text": [
            "\n",
            " 50%|████▉     | 398/797 [01:28<01:29,  4.48it/s]"
          ],
          "name": "stderr"
        },
        {
          "output_type": "stream",
          "text": [
            "loss = 0.7997257718488798 pos score = 0.22223680455181466, neg score = 0.004848483295739896\n",
            "\n"
          ],
          "name": "stdout"
        },
        {
          "output_type": "stream",
          "text": [
            "100%|██████████| 797/797 [02:57<00:00,  4.50it/s]"
          ],
          "name": "stderr"
        },
        {
          "output_type": "stream",
          "text": [
            "loss = 0.7979699496048779 pos score = 0.22162832372152624, neg score = 0.005077835267111916\n",
            "\n"
          ],
          "name": "stdout"
        },
        {
          "output_type": "stream",
          "text": [
            "\n",
            " 50%|████▉     | 398/797 [01:31<01:30,  4.43it/s]"
          ],
          "name": "stderr"
        },
        {
          "output_type": "stream",
          "text": [
            "loss = 0.7998185395894937 pos score = 0.22238690319971824, neg score = 0.0050663381718924995\n",
            "\n"
          ],
          "name": "stdout"
        },
        {
          "output_type": "stream",
          "text": [
            "100%|██████████| 797/797 [03:02<00:00,  4.38it/s]"
          ],
          "name": "stderr"
        },
        {
          "output_type": "stream",
          "text": [
            "loss = 0.7978901548601275 pos score = 0.22168168534136298, neg score = 0.005031526732417473\n",
            "\n"
          ],
          "name": "stdout"
        },
        {
          "output_type": "stream",
          "text": [
            "\n",
            " 50%|████▉     | 398/797 [01:30<01:27,  4.57it/s]"
          ],
          "name": "stderr"
        },
        {
          "output_type": "stream",
          "text": [
            "loss = 0.7999973123397061 pos score = 0.22236037426557972, neg score = 0.005327247041354917\n",
            "\n"
          ],
          "name": "stdout"
        },
        {
          "output_type": "stream",
          "text": [
            "100%|██████████| 797/797 [03:01<00:00,  4.39it/s]"
          ],
          "name": "stderr"
        },
        {
          "output_type": "stream",
          "text": [
            "loss = 0.7977847340118945 pos score = 0.22198324294845065, neg score = 0.005208075841268574\n",
            "\n"
          ],
          "name": "stdout"
        },
        {
          "output_type": "stream",
          "text": [
            "\n",
            " 50%|████▉     | 398/797 [01:29<01:32,  4.33it/s]"
          ],
          "name": "stderr"
        },
        {
          "output_type": "stream",
          "text": [
            "loss = 0.7994854814143636 pos score = 0.22275635701178306, neg score = 0.00509870747871663\n",
            "\n"
          ],
          "name": "stdout"
        },
        {
          "output_type": "stream",
          "text": [
            "100%|██████████| 797/797 [03:00<00:00,  4.41it/s]"
          ],
          "name": "stderr"
        },
        {
          "output_type": "stream",
          "text": [
            "loss = 0.7978832859489786 pos score = 0.22174860836572982, neg score = 0.005074528255058406\n",
            "\n"
          ],
          "name": "stdout"
        },
        {
          "output_type": "stream",
          "text": [
            "\n",
            " 50%|████▉     | 398/797 [01:30<01:29,  4.46it/s]"
          ],
          "name": "stderr"
        },
        {
          "output_type": "stream",
          "text": [
            "loss = 0.7999612100459822 pos score = 0.22273078388604686, neg score = 0.005688663991779651\n",
            "\n"
          ],
          "name": "stdout"
        },
        {
          "output_type": "stream",
          "text": [
            "100%|█████████▉| 796/797 [02:59<00:00,  4.55it/s]"
          ],
          "name": "stderr"
        },
        {
          "output_type": "stream",
          "text": [
            "loss = 0.7976985570773407 pos score = 0.22210500217113063, neg score = 0.00529089727225351\n",
            "\n"
          ],
          "name": "stdout"
        },
        {
          "output_type": "stream",
          "text": [
            "100%|██████████| 797/797 [02:59<00:00,  4.45it/s]\n",
            " 50%|████▉     | 398/797 [01:28<01:27,  4.57it/s]"
          ],
          "name": "stderr"
        },
        {
          "output_type": "stream",
          "text": [
            "loss = 0.799666970069684 pos score = 0.222695174603606, neg score = 0.005331413344249461\n",
            "\n"
          ],
          "name": "stdout"
        },
        {
          "output_type": "stream",
          "text": [
            "100%|██████████| 797/797 [02:55<00:00,  4.55it/s]"
          ],
          "name": "stderr"
        },
        {
          "output_type": "stream",
          "text": [
            "loss = 0.7976304929160593 pos score = 0.22222842208704158, neg score = 0.005383261164724763\n",
            "\n"
          ],
          "name": "stdout"
        },
        {
          "output_type": "stream",
          "text": [
            "\n",
            " 50%|████▉     | 398/797 [01:28<01:26,  4.64it/s]"
          ],
          "name": "stderr"
        },
        {
          "output_type": "stream",
          "text": [
            "loss = 0.7996884807569897 pos score = 0.22294337272494283, neg score = 0.0055253249662548035\n",
            "\n"
          ],
          "name": "stdout"
        },
        {
          "output_type": "stream",
          "text": [
            "100%|██████████| 797/797 [02:57<00:00,  4.48it/s]"
          ],
          "name": "stderr"
        },
        {
          "output_type": "stream",
          "text": [
            "loss = 0.7978774753946755 pos score = 0.2220696328797532, neg score = 0.005455389216045139\n",
            "\n"
          ],
          "name": "stdout"
        },
        {
          "output_type": "stream",
          "text": [
            "\n",
            " 50%|████▉     | 398/797 [01:27<01:28,  4.51it/s]"
          ],
          "name": "stderr"
        },
        {
          "output_type": "stream",
          "text": [
            "loss = 0.8002134387816616 pos score = 0.22266818141218406, neg score = 0.005895932459222865\n",
            "\n"
          ],
          "name": "stdout"
        },
        {
          "output_type": "stream",
          "text": [
            "100%|██████████| 797/797 [02:56<00:00,  4.51it/s]"
          ],
          "name": "stderr"
        },
        {
          "output_type": "stream",
          "text": [
            "loss = 0.7974525884767274 pos score = 0.22261438556202692, neg score = 0.005572349517609124\n",
            "\n"
          ],
          "name": "stdout"
        },
        {
          "output_type": "stream",
          "text": [
            "\n"
          ],
          "name": "stderr"
        }
      ]
    },
    {
      "cell_type": "code",
      "metadata": {
        "id": "lZ1xC1Z22Ziz"
      },
      "source": [
        "# with open('/content/drive/My Drive/MutSpace/demo_data/ICGC-BRCA-EU/meta.json', 'w') as f:\n",
        "#   print(f.length())"
      ],
      "execution_count": null,
      "outputs": []
    }
  ]
}